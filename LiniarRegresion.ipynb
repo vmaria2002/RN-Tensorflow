{
  "nbformat": 4,
  "nbformat_minor": 0,
  "metadata": {
    "colab": {
      "provenance": []
    },
    "kernelspec": {
      "name": "python3",
      "display_name": "Python 3"
    },
    "language_info": {
      "name": "python"
    }
  },
  "cells": [
    {
      "cell_type": "code",
      "execution_count": 17,
      "metadata": {
        "id": "lcGBegx9XbGN"
      },
      "outputs": [],
      "source": [
        "#pt RN\n",
        "import tensorflow.compat.v1 as tf"
      ]
    },
    {
      "cell_type": "markdown",
      "source": [
        "**# Parametri model**"
      ],
      "metadata": {
        "id": "PKLjkEVRYC3W"
      }
    },
    {
      "cell_type": "markdown",
      "source": [
        "W - pentru inputuri"
      ],
      "metadata": {
        "id": "ZyiYbzJQXs83"
      }
    },
    {
      "cell_type": "code",
      "source": [
        "W = tf.Variable(0.3, tf.float32)\n"
      ],
      "metadata": {
        "id": "Lisw_WZQXx6_"
      },
      "execution_count": 25,
      "outputs": []
    },
    {
      "cell_type": "markdown",
      "source": [
        "bias - pt a regla output"
      ],
      "metadata": {
        "id": "16cK__YiYA54"
      }
    },
    {
      "cell_type": "code",
      "source": [
        "b = tf.Variable(-0.3, tf.float32)"
      ],
      "metadata": {
        "id": "wpZ3o-4KYAIW"
      },
      "execution_count": 27,
      "outputs": []
    },
    {
      "cell_type": "markdown",
      "source": [
        "inputs & outputs (for RN)"
      ],
      "metadata": {
        "id": "LGbHd1-MYmQB"
      }
    },
    {
      "cell_type": "code",
      "source": [
        "tf.disable_v2_behavior()\n",
        "x =  tf.placeholder(tf.float32)\n",
        "y =  tf.placeholder(tf.float32)"
      ],
      "metadata": {
        "id": "mh1cNkqqYtGF"
      },
      "execution_count": 28,
      "outputs": []
    },
    {
      "cell_type": "markdown",
      "source": [
        "# liniar Model\n"
      ],
      "metadata": {
        "id": "gSQ8N1iQZdXR"
      }
    },
    {
      "cell_type": "code",
      "source": [
        "lininarModel =x*W+b"
      ],
      "metadata": {
        "id": "N_L2oUGwZlbM"
      },
      "execution_count": 30,
      "outputs": []
    },
    {
      "cell_type": "markdown",
      "source": [
        "# Loss\n"
      ],
      "metadata": {
        "id": "2YeFaQY8avpP"
      }
    },
    {
      "cell_type": "code",
      "source": [
        "squaredDelta = tf.square(lininarModel - y)\n",
        "#suma tururor elementelor din tensor\n",
        "loss = tf.reduce_sum(squaredDelta)"
      ],
      "metadata": {
        "id": "C_sCQECeaulQ"
      },
      "execution_count": 32,
      "outputs": []
    },
    {
      "cell_type": "markdown",
      "source": [
        "# Oprimizator\n",
        "1. Folosit (optional) pt invatarea automata,cauta minime, imbunataateste performanta invatarii, minimizand loss-ul\n",
        "2. optimizatorul- primeste ca parametru **rata de invatare**\n"
      ],
      "metadata": {
        "id": "hxcV3spmbp8a"
      }
    },
    {
      "cell_type": "code",
      "source": [
        "# ajusteaza ponderile modelului, pt a minimiza loss\n",
        "# la fiecare pas se ajusteaza pt a ajunge la performanta dorita\n",
        "\n",
        "optimizer = tf.train.GradientDescentOptimizer(0.01)"
      ],
      "metadata": {
        "id": "GDnfQKAwb9XE"
      },
      "execution_count": null,
      "outputs": []
    },
    {
      "cell_type": "markdown",
      "source": [
        "# Sesiune- executarea grafului\n",
        "-->initializarea valorilor grafului din TensorFlow pentru a fi valorile globale dorite in timpul rularii.\n"
      ],
      "metadata": {
        "id": "0keOJhJLdWti"
      }
    },
    {
      "cell_type": "code",
      "source": [
        "model = tf.keras.models.Sequential()"
      ],
      "metadata": {
        "id": "Pr-05X9Edm0Y"
      },
      "execution_count": 34,
      "outputs": []
    },
    {
      "cell_type": "markdown",
      "source": [
        "Evaluare model"
      ],
      "metadata": {
        "id": "c7chFT6wejgW"
      }
    },
    {
      "cell_type": "code",
      "source": [
        "x = tf.constant([17, 2, 3, 4])\n",
        "y = tf.constant([0, -1, -2, -3])"
      ],
      "metadata": {
        "id": "5Xxo9eTReloK"
      },
      "execution_count": 52,
      "outputs": []
    },
    {
      "cell_type": "markdown",
      "source": [
        "predictia"
      ],
      "metadata": {
        "id": "MbPGvEUIfe5u"
      }
    },
    {
      "cell_type": "code",
      "source": [
        "def evaluate_model(x, y):\n",
        "    # Folosiți modelul pentru a face o predicție\n",
        "    predictions = model.predict(x, steps=1)\n",
        "    # Calculați loss-ul utilizând predicțiile și valorile de referință y\n",
        "    loss = tf.reduce_mean(tf.square(predictions - y))\n",
        "    return loss"
      ],
      "metadata": {
        "id": "7o8LOcsFfgHL"
      },
      "execution_count": 53,
      "outputs": []
    },
    {
      "cell_type": "code",
      "source": [
        "loss = evaluate_model(x, y)\n",
        "print(loss)"
      ],
      "metadata": {
        "colab": {
          "base_uri": "https://localhost:8080/"
        },
        "id": "jcdDv-uHf1jJ",
        "outputId": "6bf878a5-af8d-4bdf-d1d6-d3aa07748e32"
      },
      "execution_count": 54,
      "outputs": [
        {
          "output_type": "stream",
          "name": "stdout",
          "text": [
            "Tensor(\"Mean_10:0\", shape=(), dtype=int32)\n"
          ]
        }
      ]
    },
    {
      "cell_type": "code",
      "source": [
        "loss"
      ],
      "metadata": {
        "colab": {
          "base_uri": "https://localhost:8080/"
        },
        "id": "7aExguUfgtso",
        "outputId": "37621483-bcbf-4c51-b869-2138b8bfda3c"
      },
      "execution_count": 55,
      "outputs": [
        {
          "output_type": "execute_result",
          "data": {
            "text/plain": [
              "<tf.Tensor 'Mean_10:0' shape=() dtype=int32>"
            ]
          },
          "metadata": {},
          "execution_count": 55
        }
      ]
    },
    {
      "cell_type": "markdown",
      "source": [
        "---------------------------------------------\n"
      ],
      "metadata": {
        "id": "Kuy4F6OphPQZ"
      }
    },
    {
      "cell_type": "markdown",
      "source": [
        "----------------------------------------"
      ],
      "metadata": {
        "id": "LfQp_bk3hSwI"
      }
    },
    {
      "cell_type": "markdown",
      "source": [
        "### Cum calculam functiile de activare in cazul x, b, w-matrici?\n",
        "\n",
        "1. np.ones((m, 1)) -> matrice de m linii & 1 col\n",
        "2. .target.reshape(-1, 1) ==> vector coloana (pt linia \"target\" din db)"
      ],
      "metadata": {
        "id": "-jEbUrILhanj"
      }
    },
    {
      "cell_type": "code",
      "source": [
        "from sklearn.datasets import fetch_california_housing\n",
        "housing =fetch_california_housing()\n"
      ],
      "metadata": {
        "id": "MqWRj2x9hwAz"
      },
      "execution_count": 56,
      "outputs": []
    },
    {
      "cell_type": "code",
      "source": [
        "housing"
      ],
      "metadata": {
        "colab": {
          "base_uri": "https://localhost:8080/"
        },
        "id": "LDi156Jqi-UZ",
        "outputId": "929affe0-5ba3-437c-f6a8-32e5de9d0c2c"
      },
      "execution_count": 57,
      "outputs": [
        {
          "output_type": "execute_result",
          "data": {
            "text/plain": [
              "{'data': array([[   8.3252    ,   41.        ,    6.98412698, ...,    2.55555556,\n",
              "           37.88      , -122.23      ],\n",
              "        [   8.3014    ,   21.        ,    6.23813708, ...,    2.10984183,\n",
              "           37.86      , -122.22      ],\n",
              "        [   7.2574    ,   52.        ,    8.28813559, ...,    2.80225989,\n",
              "           37.85      , -122.24      ],\n",
              "        ...,\n",
              "        [   1.7       ,   17.        ,    5.20554273, ...,    2.3256351 ,\n",
              "           39.43      , -121.22      ],\n",
              "        [   1.8672    ,   18.        ,    5.32951289, ...,    2.12320917,\n",
              "           39.43      , -121.32      ],\n",
              "        [   2.3886    ,   16.        ,    5.25471698, ...,    2.61698113,\n",
              "           39.37      , -121.24      ]]),\n",
              " 'target': array([4.526, 3.585, 3.521, ..., 0.923, 0.847, 0.894]),\n",
              " 'frame': None,\n",
              " 'target_names': ['MedHouseVal'],\n",
              " 'feature_names': ['MedInc',\n",
              "  'HouseAge',\n",
              "  'AveRooms',\n",
              "  'AveBedrms',\n",
              "  'Population',\n",
              "  'AveOccup',\n",
              "  'Latitude',\n",
              "  'Longitude'],\n",
              " 'DESCR': '.. _california_housing_dataset:\\n\\nCalifornia Housing dataset\\n--------------------------\\n\\n**Data Set Characteristics:**\\n\\n    :Number of Instances: 20640\\n\\n    :Number of Attributes: 8 numeric, predictive attributes and the target\\n\\n    :Attribute Information:\\n        - MedInc        median income in block group\\n        - HouseAge      median house age in block group\\n        - AveRooms      average number of rooms per household\\n        - AveBedrms     average number of bedrooms per household\\n        - Population    block group population\\n        - AveOccup      average number of household members\\n        - Latitude      block group latitude\\n        - Longitude     block group longitude\\n\\n    :Missing Attribute Values: None\\n\\nThis dataset was obtained from the StatLib repository.\\nhttps://www.dcc.fc.up.pt/~ltorgo/Regression/cal_housing.html\\n\\nThe target variable is the median house value for California districts,\\nexpressed in hundreds of thousands of dollars ($100,000).\\n\\nThis dataset was derived from the 1990 U.S. census, using one row per census\\nblock group. A block group is the smallest geographical unit for which the U.S.\\nCensus Bureau publishes sample data (a block group typically has a population\\nof 600 to 3,000 people).\\n\\nA household is a group of people residing within a home. Since the average\\nnumber of rooms and bedrooms in this dataset are provided per household, these\\ncolumns may take surprisingly large values for block groups with few households\\nand many empty houses, such as vacation resorts.\\n\\nIt can be downloaded/loaded using the\\n:func:`sklearn.datasets.fetch_california_housing` function.\\n\\n.. topic:: References\\n\\n    - Pace, R. Kelley and Ronald Barry, Sparse Spatial Autoregressions,\\n      Statistics and Probability Letters, 33 (1997) 291-297\\n'}"
            ]
          },
          "metadata": {},
          "execution_count": 57
        }
      ]
    },
    {
      "cell_type": "code",
      "source": [
        "housing.target.reshape(-1, 1)"
      ],
      "metadata": {
        "colab": {
          "base_uri": "https://localhost:8080/"
        },
        "id": "1BrNAR7ZjBVi",
        "outputId": "4de4fdcf-0301-4112-90bf-40c28f3f961d"
      },
      "execution_count": 58,
      "outputs": [
        {
          "output_type": "execute_result",
          "data": {
            "text/plain": [
              "array([[4.526],\n",
              "       [3.585],\n",
              "       [3.521],\n",
              "       ...,\n",
              "       [0.923],\n",
              "       [0.847],\n",
              "       [0.894]])"
            ]
          },
          "metadata": {},
          "execution_count": 58
        }
      ]
    },
    {
      "cell_type": "markdown",
      "source": [
        "Aplicare formula(op. matrici)\n",
        "![LiniarReg.jpg](data:image/jpeg;base64,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)"
      ],
      "metadata": {
        "id": "GlYwqs-7jpSS"
      }
    },
    {
      "cell_type": "code",
      "source": [
        "TX = tf.transpose(X)\n",
        "theta = tf.matmul(tf.matmul( tf.matrix_inverse(tf.matmul(TX, X)),TX ),y)\n"
      ],
      "metadata": {
        "id": "lrzNgpZgjyNE"
      },
      "execution_count": null,
      "outputs": []
    },
    {
      "cell_type": "markdown",
      "source": [
        "Biblio:\n",
        "1. https://github.com/ArdeleanRichard/University-Projects/tree/main/Python/MachineLearning\n",
        "2. https://stackoverflow.com/questions/37383812/tensorflow-module-object-has-no-attribute-placeholder\n"
      ],
      "metadata": {
        "id": "MtgpFcWSbMND"
      }
    }
  ]
}