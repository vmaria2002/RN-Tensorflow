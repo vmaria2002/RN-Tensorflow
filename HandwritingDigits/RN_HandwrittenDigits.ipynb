{
  "nbformat": 4,
  "nbformat_minor": 0,
  "metadata": {
    "colab": {
      "provenance": []
    },
    "kernelspec": {
      "name": "python3",
      "display_name": "Python 3"
    },
    "language_info": {
      "name": "python"
    }
  },
  "cells": [
    {
      "cell_type": "markdown",
      "source": [
        "\n",
        "### pentru invatarea supervizata\n",
        "\n",
        "\n",
        "\n"
      ],
      "metadata": {
        "id": "xzETzewzI-9m"
      }
    },
    {
      "cell_type": "markdown",
      "source": [
        "*import biblioteci pentru operatii cu arrays, plot(grafice)*"
      ],
      "metadata": {
        "id": "USvm3PwDJjBM"
      }
    },
    {
      "cell_type": "code",
      "execution_count": 114,
      "metadata": {
        "id": "eV9Nnt3dIhcu"
      },
      "outputs": [],
      "source": [
        "import numpy as np\n",
        "import matplotlib.pyplot as plot"
      ]
    },
    {
      "cell_type": "markdown",
      "source": [
        "*import TensorFlow*"
      ],
      "metadata": {
        "id": "fqcTn4qLKdqE"
      }
    },
    {
      "cell_type": "code",
      "source": [
        "import tensorflow as tf"
      ],
      "metadata": {
        "id": "VTHWbIytKipa"
      },
      "execution_count": 115,
      "outputs": []
    },
    {
      "cell_type": "markdown",
      "source": [
        "*preluare date cu poze din baza de date care este disponibila in tensorflow*\n",
        "\n",
        "**mnist =** valorile din setul de date"
      ],
      "metadata": {
        "id": "aurJ2o3EK9Qz"
      }
    },
    {
      "cell_type": "code",
      "source": [
        "mnist = tf.keras.datasets.mnist.load_data()"
      ],
      "metadata": {
        "id": "ZFj5SlYmLTeG"
      },
      "execution_count": 116,
      "outputs": []
    },
    {
      "cell_type": "markdown",
      "source": [
        "vizualizare date:"
      ],
      "metadata": {
        "id": "DCxVqYHFM6T1"
      }
    },
    {
      "cell_type": "code",
      "source": [
        "(x_train, y_train), (x_test, y_test) = mnist\n",
        "print(\"train x\")\n",
        "print(x_train)\n",
        "print(\"train y\")\n",
        "print(y_train)\n",
        "\n",
        "print(\"test x\")\n",
        "print(x_test)\n",
        "print(\"test t\")\n",
        "print(y_test)\n",
        "\n"
      ],
      "metadata": {
        "colab": {
          "base_uri": "https://localhost:8080/"
        },
        "id": "MoSn4hxqM-Sk",
        "outputId": "bfc9bbe2-fb86-4fe3-afcf-3c856a96475a"
      },
      "execution_count": 117,
      "outputs": [
        {
          "output_type": "stream",
          "name": "stdout",
          "text": [
            "train x\n",
            "[[[0 0 0 ... 0 0 0]\n",
            "  [0 0 0 ... 0 0 0]\n",
            "  [0 0 0 ... 0 0 0]\n",
            "  ...\n",
            "  [0 0 0 ... 0 0 0]\n",
            "  [0 0 0 ... 0 0 0]\n",
            "  [0 0 0 ... 0 0 0]]\n",
            "\n",
            " [[0 0 0 ... 0 0 0]\n",
            "  [0 0 0 ... 0 0 0]\n",
            "  [0 0 0 ... 0 0 0]\n",
            "  ...\n",
            "  [0 0 0 ... 0 0 0]\n",
            "  [0 0 0 ... 0 0 0]\n",
            "  [0 0 0 ... 0 0 0]]\n",
            "\n",
            " [[0 0 0 ... 0 0 0]\n",
            "  [0 0 0 ... 0 0 0]\n",
            "  [0 0 0 ... 0 0 0]\n",
            "  ...\n",
            "  [0 0 0 ... 0 0 0]\n",
            "  [0 0 0 ... 0 0 0]\n",
            "  [0 0 0 ... 0 0 0]]\n",
            "\n",
            " ...\n",
            "\n",
            " [[0 0 0 ... 0 0 0]\n",
            "  [0 0 0 ... 0 0 0]\n",
            "  [0 0 0 ... 0 0 0]\n",
            "  ...\n",
            "  [0 0 0 ... 0 0 0]\n",
            "  [0 0 0 ... 0 0 0]\n",
            "  [0 0 0 ... 0 0 0]]\n",
            "\n",
            " [[0 0 0 ... 0 0 0]\n",
            "  [0 0 0 ... 0 0 0]\n",
            "  [0 0 0 ... 0 0 0]\n",
            "  ...\n",
            "  [0 0 0 ... 0 0 0]\n",
            "  [0 0 0 ... 0 0 0]\n",
            "  [0 0 0 ... 0 0 0]]\n",
            "\n",
            " [[0 0 0 ... 0 0 0]\n",
            "  [0 0 0 ... 0 0 0]\n",
            "  [0 0 0 ... 0 0 0]\n",
            "  ...\n",
            "  [0 0 0 ... 0 0 0]\n",
            "  [0 0 0 ... 0 0 0]\n",
            "  [0 0 0 ... 0 0 0]]]\n",
            "train y\n",
            "[5 0 4 ... 5 6 8]\n",
            "test x\n",
            "[[[0 0 0 ... 0 0 0]\n",
            "  [0 0 0 ... 0 0 0]\n",
            "  [0 0 0 ... 0 0 0]\n",
            "  ...\n",
            "  [0 0 0 ... 0 0 0]\n",
            "  [0 0 0 ... 0 0 0]\n",
            "  [0 0 0 ... 0 0 0]]\n",
            "\n",
            " [[0 0 0 ... 0 0 0]\n",
            "  [0 0 0 ... 0 0 0]\n",
            "  [0 0 0 ... 0 0 0]\n",
            "  ...\n",
            "  [0 0 0 ... 0 0 0]\n",
            "  [0 0 0 ... 0 0 0]\n",
            "  [0 0 0 ... 0 0 0]]\n",
            "\n",
            " [[0 0 0 ... 0 0 0]\n",
            "  [0 0 0 ... 0 0 0]\n",
            "  [0 0 0 ... 0 0 0]\n",
            "  ...\n",
            "  [0 0 0 ... 0 0 0]\n",
            "  [0 0 0 ... 0 0 0]\n",
            "  [0 0 0 ... 0 0 0]]\n",
            "\n",
            " ...\n",
            "\n",
            " [[0 0 0 ... 0 0 0]\n",
            "  [0 0 0 ... 0 0 0]\n",
            "  [0 0 0 ... 0 0 0]\n",
            "  ...\n",
            "  [0 0 0 ... 0 0 0]\n",
            "  [0 0 0 ... 0 0 0]\n",
            "  [0 0 0 ... 0 0 0]]\n",
            "\n",
            " [[0 0 0 ... 0 0 0]\n",
            "  [0 0 0 ... 0 0 0]\n",
            "  [0 0 0 ... 0 0 0]\n",
            "  ...\n",
            "  [0 0 0 ... 0 0 0]\n",
            "  [0 0 0 ... 0 0 0]\n",
            "  [0 0 0 ... 0 0 0]]\n",
            "\n",
            " [[0 0 0 ... 0 0 0]\n",
            "  [0 0 0 ... 0 0 0]\n",
            "  [0 0 0 ... 0 0 0]\n",
            "  ...\n",
            "  [0 0 0 ... 0 0 0]\n",
            "  [0 0 0 ... 0 0 0]\n",
            "  [0 0 0 ... 0 0 0]]]\n",
            "test t\n",
            "[7 2 1 ... 4 5 6]\n"
          ]
        }
      ]
    },
    {
      "cell_type": "markdown",
      "source": [
        "-----------------------------------\n",
        "\n",
        "**Construirea RN: retea neuronala**\n",
        "```\n",
        "input Layer -> Hidden Layer -> Output Layer\n",
        "\n",
        "```\n",
        "\n",
        "\n"
      ],
      "metadata": {
        "id": "2haJ_XKTOOcH"
      }
    },
    {
      "cell_type": "markdown",
      "source": [
        "![RN_handwritten_digits.jpg](data:image/jpeg;base64,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)"
      ],
      "metadata": {
        "id": "SXrW5s6hikWt"
      }
    },
    {
      "cell_type": "markdown",
      "source": [
        "\n",
        "\n",
        "---\n",
        "\n",
        "\n",
        "Parametrii retelei neuronale:\n",
        "\n",
        "1.   nr_inputuri(neuronii din input) = 784\n",
        "2.   nr neuroni din straturile ascunse(hidden_layers) = 300\n",
        "3.   nr output(nr clase = rezultate de clasificare) = 10 (cifrele 0..10)"
      ],
      "metadata": {
        "id": "hTbQaZEuhNAh"
      }
    },
    {
      "cell_type": "code",
      "source": [
        "n_input = 784\n",
        "hidden_layer_neurons = 300\n",
        "n_classes = 10\n"
      ],
      "metadata": {
        "id": "uM09vt7DOHN1"
      },
      "execution_count": 118,
      "outputs": []
    },
    {
      "cell_type": "markdown",
      "source": [
        "Parametrii de training\n",
        "\n",
        "1. rata de invatare = 0.005\n",
        "2. epoci de invatare = 30000\n",
        "3. dimensiunea unui batch = 50\n"
      ],
      "metadata": {
        "id": "eI9vhXERVNL4"
      }
    },
    {
      "cell_type": "code",
      "source": [
        "learning_rate = 0.005\n",
        "training_epochs =30000\n",
        "batch_size = 50"
      ],
      "metadata": {
        "id": "kra2eN9NVsUg"
      },
      "execution_count": 119,
      "outputs": []
    },
    {
      "cell_type": "markdown",
      "source": [
        "Creating TensorFlow Variables & Model"
      ],
      "metadata": {
        "id": "x0jQ1kzdWD_5"
      }
    },
    {
      "cell_type": "code",
      "source": [
        "#inputs\n",
        "# trebuie folosita aceasta functie, altfel, la rulari multiple--> eroare\n",
        "tf.compat.v1.disable_eager_execution()\n",
        "\n",
        "x = tf.compat.v1.placeholder(tf.float32, shape=[None, n_input])\n",
        "\n",
        "# outputs\n",
        "y = tf.compat.v1.placeholder(tf.float32, shape=[None, n_classes])\n",
        "\n",
        "print(x)\n"
      ],
      "metadata": {
        "colab": {
          "base_uri": "https://localhost:8080/"
        },
        "id": "QY1B118cWcx5",
        "outputId": "2d5b8c9b-9fdb-4974-efc9-ac7e49f51067"
      },
      "execution_count": 120,
      "outputs": [
        {
          "output_type": "stream",
          "name": "stdout",
          "text": [
            "Tensor(\"Placeholder_14:0\", shape=(None, 784), dtype=float32)\n"
          ]
        }
      ]
    },
    {
      "cell_type": "markdown",
      "source": [
        "# Create weights:\n",
        "Obs:\n",
        "pentru toate layerele ascunse si output, avem nevoie de de W si b"
      ],
      "metadata": {
        "id": "X7aq3KaLZnoM"
      }
    },
    {
      "cell_type": "code",
      "source": [
        "#\n",
        "w1 = tf.Variable(tf.random.normal([n_input, hidden_layer_neurons]))\n",
        "# rezultat (folosindu-de distributia Gaussiana): media =0, deviatia standard =1\n",
        "w1"
      ],
      "metadata": {
        "colab": {
          "base_uri": "https://localhost:8080/"
        },
        "id": "3IHwiX7KZmHa",
        "outputId": "0f8cda92-d563-4635-fca3-95eca4734150"
      },
      "execution_count": 121,
      "outputs": [
        {
          "output_type": "execute_result",
          "data": {
            "text/plain": [
              "<tf.Variable 'Variable_22:0' shape=(784, 300) dtype=float32>"
            ]
          },
          "metadata": {},
          "execution_count": 121
        }
      ]
    },
    {
      "cell_type": "code",
      "source": [
        "w2 = tf.Variable(tf.random.normal([hidden_layer_neurons, n_classes]))\n",
        "w2"
      ],
      "metadata": {
        "colab": {
          "base_uri": "https://localhost:8080/"
        },
        "id": "VxH9isbNhaNm",
        "outputId": "a4efc1f8-e050-48c3-be9d-5264815d8326"
      },
      "execution_count": 122,
      "outputs": [
        {
          "output_type": "execute_result",
          "data": {
            "text/plain": [
              "<tf.Variable 'Variable_23:0' shape=(300, 10) dtype=float32>"
            ]
          },
          "metadata": {},
          "execution_count": 122
        }
      ]
    },
    {
      "cell_type": "code",
      "source": [
        "b1 = tf.Variable(tf.random.normal([hidden_layer_neurons]))\n",
        "# array de 300 coloane si 1 linie\n",
        "b1"
      ],
      "metadata": {
        "colab": {
          "base_uri": "https://localhost:8080/"
        },
        "id": "VjTCEaWsi-_L",
        "outputId": "5f4b7ffc-fc8d-41d1-b089-8399741d9f42"
      },
      "execution_count": 123,
      "outputs": [
        {
          "output_type": "execute_result",
          "data": {
            "text/plain": [
              "<tf.Variable 'Variable_24:0' shape=(300,) dtype=float32>"
            ]
          },
          "metadata": {},
          "execution_count": 123
        }
      ]
    },
    {
      "cell_type": "code",
      "source": [
        "b2 = tf.Variable(tf.random.normal([n_classes]))\n",
        "# array de 1 linie si 10 coloane\n",
        "b2"
      ],
      "metadata": {
        "colab": {
          "base_uri": "https://localhost:8080/"
        },
        "id": "PMS85FKrjWpq",
        "outputId": "a04a27a3-d8b3-4721-b3ae-010a51708f50"
      },
      "execution_count": 124,
      "outputs": [
        {
          "output_type": "execute_result",
          "data": {
            "text/plain": [
              "<tf.Variable 'Variable_25:0' shape=(10,) dtype=float32>"
            ]
          },
          "metadata": {},
          "execution_count": 124
        }
      ]
    },
    {
      "cell_type": "markdown",
      "source": [
        "#Create **MULTILAYER PERCEPTRON MODEL** [2]\n",
        "\n",
        "\n",
        "---\n",
        "\n",
        "Obs: se calculeaza functiile de activare pentru fiecare neuron, utilizandu-se W, b, x, y\n",
        "```\n",
        "1. Pentru Hidden Layer 1, vom folosi: layer intrare: x, w1, b1\n",
        "2. Pentru Output Layer, vom folosi: layer-ul anterior, W2, b2\n",
        "```\n",
        "\n",
        "Daca am fi avut mai multe hidden layers: foloseam layer-ul anterior, impreuna cu w, b specifice\n",
        "```\n",
        "functia de activare:\n",
        "sigmoid=(layer_anterior * W) + B\n"
      ],
      "metadata": {
        "id": "6drAltCDkOZ0"
      }
    },
    {
      "cell_type": "code",
      "source": [
        "# sigmoid - functia de activare\n",
        "\n",
        "#\n",
        "hidden_layer = tf.nn.sigmoid(tf.add(tf.matmul(x, w1), b1))\n",
        "output_layer = tf.add(tf.matmul(hidden_layer, w2),b2)\n"
      ],
      "metadata": {
        "id": "2WVRSxHwkKo_"
      },
      "execution_count": 125,
      "outputs": []
    },
    {
      "cell_type": "markdown",
      "source": [
        "# Functia de cost\n",
        "1. softmax, transforma output-urile in probabilitati\n",
        "2. este folosita pe layer-ul de output"
      ],
      "metadata": {
        "id": "UTp-j-vR2ZZW"
      }
    },
    {
      "cell_type": "code",
      "source": [
        "#Atentie la ordinea parametrilor, apare eroare:\n",
        "\n",
        "cost = tf.reduce_mean(tf.nn.softmax_cross_entropy_with_logits(labels=y, logits=output_layer))\n",
        "cost"
      ],
      "metadata": {
        "colab": {
          "base_uri": "https://localhost:8080/"
        },
        "id": "tB1_2RpN2h37",
        "outputId": "ab39ef7a-bc4b-42d1-a03b-85ed59012131"
      },
      "execution_count": 126,
      "outputs": [
        {
          "output_type": "execute_result",
          "data": {
            "text/plain": [
              "<tf.Tensor 'Mean_5:0' shape=() dtype=float32>"
            ]
          },
          "metadata": {},
          "execution_count": 126
        }
      ]
    },
    {
      "cell_type": "markdown",
      "source": [
        "# Optimizator(minimizeaza costul)- Adam [2]"
      ],
      "metadata": {
        "id": "Ed2qHYUJ581g"
      }
    },
    {
      "cell_type": "code",
      "source": [
        "optimizer = tf.keras.optimizers.Adam(learning_rate=learning_rate)"
      ],
      "metadata": {
        "id": "yRrj8g_N6Hc9"
      },
      "execution_count": 127,
      "outputs": []
    },
    {
      "cell_type": "markdown",
      "source": [
        "# Acuratetea"
      ],
      "metadata": {
        "id": "XVK1TtrV7MGy"
      }
    },
    {
      "cell_type": "code",
      "source": [
        "# argmax: tensorul maxim\n",
        "correct_prediction = tf.equal(tf.argmax(output_layer, 1), tf.argmax(y, 1))\n",
        "# cast: ca in C, conversie la alt tip\n",
        "correct_prediction = tf.cast(correct_prediction, tf.float32)\n",
        "\n",
        "# ******************************Acuratetea*****************************\n",
        "accuracy = tf.reduce_mean(correct_prediction)\n",
        "print(f'acuratetea: {accuracy}')\n",
        "\n"
      ],
      "metadata": {
        "colab": {
          "base_uri": "https://localhost:8080/"
        },
        "id": "-cgDXmL27QC7",
        "outputId": "15d2407e-f367-4056-b67d-4bf018075a38"
      },
      "execution_count": 128,
      "outputs": [
        {
          "output_type": "stream",
          "name": "stdout",
          "text": [
            "acuratetea: Tensor(\"Mean_6:0\", shape=(), dtype=float32)\n"
          ]
        }
      ]
    },
    {
      "cell_type": "markdown",
      "source": [
        "Model"
      ],
      "metadata": {
        "id": "x5dK-wjJKDMr"
      }
    },
    {
      "cell_type": "markdown",
      "source": [
        "# Analizarea acuratetii\n",
        "```\n",
        "ceva nu e ok inca -nu pot calcula acuratetea din fiecare epoca\n",
        "```\n",
        "\n",
        "\n"
      ],
      "metadata": {
        "id": "YoWeyAnG3ZPN"
      }
    },
    {
      "cell_type": "code",
      "source": [
        "train_accuracies = []\n",
        "validation_accuracies = []\n",
        "epoc_iteration = []\n",
        "\n",
        "sess = ess = tf.compat.v1.Session()\n",
        "# luarea a cate batch size elemente\n",
        "for epoch in range(0, len(x_train), training_epochs):\n",
        "  batch_x = x_train[epoch:epoch+training_epochs]\n",
        "  batch_y = y_train[epoch:epoch+training_epochs]\n",
        "\n",
        "    # Optionally, calculate and print the training accuracy\n",
        "  #train_ac = sess.run(accuracy, feed_dict={x: batch_x, y: batch_y})\n",
        "  print(\"Training Accuracy:\", accuracy)\n",
        ""
      ],
      "metadata": {
        "colab": {
          "base_uri": "https://localhost:8080/"
        },
        "id": "r4IwaAKcBAgs",
        "outputId": "a1b01a0d-1c38-48f1-fe1a-cb2383e709e1"
      },
      "execution_count": 137,
      "outputs": [
        {
          "output_type": "stream",
          "name": "stdout",
          "text": [
            "Training Accuracy: Tensor(\"Mean_6:0\", shape=(), dtype=float32)\n",
            "Training Accuracy: Tensor(\"Mean_6:0\", shape=(), dtype=float32)\n"
          ]
        }
      ]
    },
    {
      "cell_type": "markdown",
      "source": [
        "Acuratetea si Validare-fial results"
      ],
      "metadata": {
        "id": "WuDzZqtuK_Fj"
      }
    },
    {
      "cell_type": "code",
      "source": [
        "m1 = tf.keras.metrics.Accuracy()\n",
        "m1.update_state(\n",
        "    y, output_layer, sample_weight=None\n",
        ")\n",
        "print(m1.result())\n"
      ],
      "metadata": {
        "colab": {
          "base_uri": "https://localhost:8080/"
        },
        "id": "RhaRmMBcLEWX",
        "outputId": "3c4ba82c-238b-4e47-e223-8d2443a05330"
      },
      "execution_count": 169,
      "outputs": [
        {
          "output_type": "stream",
          "name": "stdout",
          "text": [
            "Tensor(\"Identity_7:0\", shape=(), dtype=float32)\n"
          ]
        }
      ]
    },
    {
      "cell_type": "markdown",
      "source": [
        "Biblio:\n",
        "\n",
        "\n",
        "1. https://pythonguides.com/tensorflow-placeholder/\n",
        "2. https://github.com/ArdeleanRichard/University-Projects/tree/main/Python/MachineLearning/LetterRecognition\n",
        "\n"
      ],
      "metadata": {
        "id": "JiYwyqWed-qp"
      }
    }
  ]
}